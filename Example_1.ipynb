{
  "nbformat": 4,
  "nbformat_minor": 0,
  "metadata": {
    "colab": {
      "provenance": [],
      "gpuType": "T4",
      "authorship_tag": "ABX9TyOMR0bRM4l32UGN5uzeD5WT",
      "include_colab_link": true
    },
    "kernelspec": {
      "name": "python3",
      "display_name": "Python 3"
    },
    "language_info": {
      "name": "python"
    },
    "accelerator": "GPU"
  },
  "cells": [
    {
      "cell_type": "markdown",
      "metadata": {
        "id": "view-in-github",
        "colab_type": "text"
      },
      "source": [
        "<a href=\"https://colab.research.google.com/github/fthr6842/test-of-cuda/blob/main/Example_1.ipynb\" target=\"_parent\"><img src=\"https://colab.research.google.com/assets/colab-badge.svg\" alt=\"Open In Colab\"/></a>"
      ]
    },
    {
      "cell_type": "code",
      "source": [
        "#比對CPU與GPU用於解矩陣(1000 by 1000)的速率"
      ],
      "metadata": {
        "id": "UfZtfS4WBo_c"
      },
      "execution_count": null,
      "outputs": []
    },
    {
      "cell_type": "code",
      "execution_count": 5,
      "metadata": {
        "id": "GujZQj0ibraa"
      },
      "outputs": [],
      "source": [
        "import cupy as cp\n",
        "import numpy as np\n",
        "import time"
      ]
    },
    {
      "cell_type": "code",
      "source": [
        "n = 1000\n",
        "A, b = cp.random.rand(n, n), cp.random.rand(n, 1)\n",
        "cA, cb = cp.asnumpy(A), cp.asnumpy(b)\n",
        "\n",
        "ckpt_0 = time.time()\n",
        "x = cp.linalg.solve(A, b)\n",
        "ckpt_1 = time.time()\n",
        "cx = np.linalg.solve(cA, cb)\n",
        "ckpt_2 = time.time()\n",
        "\n",
        "print(\"solving rate of CPU/GPU = \", (ckpt_2 - ckpt_1)/(ckpt_1 - ckpt_0))"
      ],
      "metadata": {
        "colab": {
          "base_uri": "https://localhost:8080/"
        },
        "id": "BmGDNLMmcJd3",
        "outputId": "3a22e08b-d94b-4e6a-e6dc-9d3672777283"
      },
      "execution_count": 7,
      "outputs": [
        {
          "output_type": "stream",
          "name": "stdout",
          "text": [
            "solving rate of CPU/GPU =  29.167218220751412\n"
          ]
        }
      ]
    }
  ]
}