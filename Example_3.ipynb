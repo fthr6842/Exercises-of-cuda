{
  "nbformat": 4,
  "nbformat_minor": 0,
  "metadata": {
    "colab": {
      "provenance": [],
      "gpuType": "T4",
      "authorship_tag": "ABX9TyMGJwAT4Wd1I9DGQ0jX67ab",
      "include_colab_link": true
    },
    "kernelspec": {
      "name": "python3",
      "display_name": "Python 3"
    },
    "language_info": {
      "name": "python"
    },
    "accelerator": "GPU"
  },
  "cells": [
    {
      "cell_type": "markdown",
      "metadata": {
        "id": "view-in-github",
        "colab_type": "text"
      },
      "source": [
        "<a href=\"https://colab.research.google.com/github/fthr6842/test-of-cuda/blob/main/Example_3.ipynb\" target=\"_parent\"><img src=\"https://colab.research.google.com/assets/colab-badge.svg\" alt=\"Open In Colab\"/></a>"
      ]
    },
    {
      "cell_type": "markdown",
      "source": [
        "Example about Monte Carlo simulation"
      ],
      "metadata": {
        "id": "0W-sXEZvJvY5"
      }
    },
    {
      "cell_type": "code",
      "execution_count": 27,
      "metadata": {
        "id": "FmDIkqn_JhcT"
      },
      "outputs": [],
      "source": [
        "import cupy as cp\n",
        "import numpy as np\n",
        "import time"
      ]
    },
    {
      "cell_type": "code",
      "source": [
        "d, rho, n, Nrepl = -1, 0.25, 5, 750000\n",
        "\n",
        "ckpt_0 = time.time()\n",
        "Sigma = rho * cp.ones((n, n)) + (1 - rho) * cp.eye(n)\n",
        "T = cp.linalg.cholesky(Sigma)\n",
        "X_MC = cp.matmul(cp.random.randn(Nrepl, cp.size(T, 1)), T)\n",
        "MC = cp.prod((X_MC < d*cp.ones((Nrepl, n))), axis=1)\n",
        "Mean_MC = cp.mean(MC)\n",
        "StdEr_MC = cp.std(MC) / cp.sqrt(Nrepl)\n",
        "ckpt_1 = time.time()\n",
        "cSigma = rho * np.ones((n, n)) + (1 - rho) * np.eye(n)\n",
        "cT = np.linalg.cholesky(cSigma)\n",
        "cX_MC = np.matmul(np.random.randn(Nrepl, np.size(cT, 1)), cT)\n",
        "cMC = np.prod((cX_MC < d*np.ones((Nrepl, n))), axis=1)\n",
        "cMean_MC = np.mean(cMC)\n",
        "cStdEr_MC = np.std(cMC) / np.sqrt(Nrepl)\n",
        "ckpt_2 = time.time()\n",
        "\n",
        "print(\"the solving rate of CPU/GPU with Monte Carlo: \", (ckpt_2 - ckpt_1)/(ckpt_1 - ckpt_0))\n"
      ],
      "metadata": {
        "colab": {
          "base_uri": "https://localhost:8080/"
        },
        "id": "l0eq6MRcJwjW",
        "outputId": "c4e7451f-850c-448b-a24b-e490b442681f"
      },
      "execution_count": 34,
      "outputs": [
        {
          "output_type": "stream",
          "name": "stdout",
          "text": [
            "the solving rate of CPU/GPU with Monte Carlo:  40.49140916355887\n"
          ]
        }
      ]
    },
    {
      "cell_type": "markdown",
      "source": [
        "觀察結果: 相同條件下，GPU運算的速度是CPU的40.49倍"
      ],
      "metadata": {
        "id": "Sj9VqrPrJw-1"
      }
    }
  ]
}