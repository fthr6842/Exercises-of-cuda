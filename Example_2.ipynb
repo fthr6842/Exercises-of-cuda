{
  "nbformat": 4,
  "nbformat_minor": 0,
  "metadata": {
    "colab": {
      "provenance": [],
      "gpuType": "T4",
      "authorship_tag": "ABX9TyOlOClHk3LxyJpBYPsPq7hq",
      "include_colab_link": true
    },
    "kernelspec": {
      "name": "python3",
      "display_name": "Python 3"
    },
    "language_info": {
      "name": "python"
    },
    "accelerator": "GPU"
  },
  "cells": [
    {
      "cell_type": "markdown",
      "metadata": {
        "id": "view-in-github",
        "colab_type": "text"
      },
      "source": [
        "<a href=\"https://colab.research.google.com/github/fthr6842/test-of-cuda/blob/main/Example_2.ipynb\" target=\"_parent\"><img src=\"https://colab.research.google.com/assets/colab-badge.svg\" alt=\"Open In Colab\"/></a>"
      ]
    },
    {
      "cell_type": "markdown",
      "source": [
        "example about Fourier transform"
      ],
      "metadata": {
        "id": "HrUNrFJiExI2"
      }
    },
    {
      "cell_type": "code",
      "execution_count": 3,
      "metadata": {
        "id": "9OisVpqHDRPl"
      },
      "outputs": [],
      "source": [
        "import cupy as cp\n",
        "import numpy as np\n",
        "import time"
      ]
    },
    {
      "cell_type": "code",
      "source": [
        "n = 2**16 #Let n be 2^16\n",
        "\n",
        "T = cp.random.rand(n, 1) #2^16 by 1\n",
        "cT= cp.asnumpy(T)\n",
        "\n",
        "ckpt_0 = time.time()\n",
        "F = cp.fft.fft(T) #Fourier transform\n",
        "ckpt_1 = time.time()\n",
        "cF = np.fft.fft(cT)\n",
        "ckpt_2 = time.time()\n",
        "\n",
        "print(\"the solving rate of CPU/GPU with Fourier transform: \", (ckpt_2 - ckpt_1)/(ckpt_1 - ckpt_0))"
      ],
      "metadata": {
        "colab": {
          "base_uri": "https://localhost:8080/"
        },
        "id": "FxmOlgzGEasJ",
        "outputId": "13b6c911-dc11-4eeb-eda5-5d28ebfa5eb4"
      },
      "execution_count": 5,
      "outputs": [
        {
          "output_type": "stream",
          "name": "stdout",
          "text": [
            "the solving rate of CPU/GPU with Fourier transform:  1.1921356251471626\n"
          ]
        }
      ]
    },
    {
      "cell_type": "markdown",
      "source": [
        "觀察結果: 相同條件下，GPU運算的速度是CPU的1.19倍"
      ],
      "metadata": {
        "id": "26a1dVEPIpun"
      }
    }
  ]
}